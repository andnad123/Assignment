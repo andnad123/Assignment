{
  "nbformat": 4,
  "nbformat_minor": 0,
  "metadata": {
    "colab": {
      "provenance": []
    },
    "kernelspec": {
      "name": "python3",
      "display_name": "Python 3"
    },
    "language_info": {
      "name": "python"
    }
  },
  "cells": [
    {
      "cell_type": "markdown",
      "source": [
        "## This Jupyter Notebook serves as a demo Workflow of cleaning and exploring IgE measurements with Pax for an allergen panel involve testing blood samples to detect Immunoglobulin E (IgE) antibody levels against specific allergens using the Pax system.\n",
        "\n",
        "Fill in the empty code cells below. Feel free to add more code cells if needed."
      ],
      "metadata": {
        "id": "9Wpep-sI3ojO"
      }
    },
    {
      "cell_type": "markdown",
      "source": [
        "### Data upload:\n",
        "- Use the upload button on the left to upload the file: 'PAX_Data.xlsx'\n",
        "- By default the data should have been upload to into the folder '/content'"
      ],
      "metadata": {
        "id": "EEGRQs2QEGs0"
      }
    },
    {
      "cell_type": "markdown",
      "source": [
        "## Load the required modules\n",
        "- Just run the following code-cell to load all modules needed for this exercise"
      ],
      "metadata": {
        "id": "apC-TfeGEkuC"
      }
    },
    {
      "cell_type": "code",
      "execution_count": null,
      "metadata": {
        "id": "l-jtRZ_b8J1K"
      },
      "outputs": [],
      "source": [
        "import os\n",
        "import pandas as pd\n",
        "import numpy as np"
      ]
    },
    {
      "cell_type": "markdown",
      "source": [
        "### Checking the working directory:\n",
        "- use 'os.getcwd()' method to check for the current working directory.\n",
        "- If you are using Google Colab, the default working directory should be the folder 'content'\n",
        "- If not, use the 'os. chdir(<path>)' method to make sure to set the working directory"
      ],
      "metadata": {
        "id": "b2m0MQK8C6JK"
      }
    },
    {
      "cell_type": "code",
      "source": [
        "os.getcwd()"
      ],
      "metadata": {
        "id": "jCGpnwB79b_P",
        "colab": {
          "base_uri": "https://localhost:8080/",
          "height": 35
        },
        "outputId": "999ca29c-042e-41e2-88a4-00b470e0f4e2"
      },
      "execution_count": null,
      "outputs": [
        {
          "output_type": "execute_result",
          "data": {
            "text/plain": [
              "'/content'"
            ],
            "application/vnd.google.colaboratory.intrinsic+json": {
              "type": "string"
            }
          },
          "metadata": {},
          "execution_count": 2
        }
      ]
    },
    {
      "cell_type": "markdown",
      "source": [
        "## Read the excel file\n",
        "- if you are not using Google Colab, make sure to set the path to your data file correctly: \\'<FILE-PATH\\>/PAX_Data.xlsx'\n",
        "- use: 'Sheet1' as sheet_name\n",
        "- ignore the header: header=None\n",
        "- assign the loaded data to a variable called: df\n"
      ],
      "metadata": {
        "id": "NvsWxy8F9-uy"
      }
    },
    {
      "cell_type": "code",
      "source": [
        "file_path = '/content/PAX_Data.xlsx'\n",
        "\n",
        "df = pd.read_excel(file_path, sheet_name='Sheet1', header=None)\n",
        "print(df)"
      ],
      "metadata": {
        "id": "bF0WoJbC8d02",
        "colab": {
          "base_uri": "https://localhost:8080/"
        },
        "outputId": "2844c955-e66b-4879-bc98-707e3f1a0ab9"
      },
      "execution_count": null,
      "outputs": [
        {
          "output_type": "stream",
          "name": "stdout",
          "text": [
            "              0                1               2               3     \\\n",
            "0     Date of test       2023-04-13      2023-04-13      2023-04-13   \n",
            "1      Test number      2334000487D     2331000683D     2331000884D   \n",
            "2          Country            Spain      Netherland         Germany   \n",
            "3          Age Y/M  3Years 11Months  2Years 8Months  2Years 8Months   \n",
            "4              Sex           Female            Male            Male   \n",
            "..             ...              ...             ...             ...   \n",
            "245         Sola t            22.05           22.33           22.33   \n",
            "246      rSola t 2            22.36           24.08           24.08   \n",
            "247  rSola t_GBSSI            23.43           24.02           24.02   \n",
            "248      rHom s LF            27.51           27.94           27.94   \n",
            "249        CCD-HSA               27           25.61           25.61   \n",
            "\n",
            "               4                 5               6               7     \\\n",
            "0        2023-04-13        2023-04-13      2023-04-13      2023-04-13   \n",
            "1       2331000880D       2331000851D     2331001025D     2331000881D   \n",
            "2           Germany        Netherland          Sweden         Germany   \n",
            "3    7Years 9Months  11Years 11Months  4Years 8Months  1Years 9Months   \n",
            "4            Female              Male          Female            Male   \n",
            "..              ...               ...             ...             ...   \n",
            "245           21.61             21.85           20.94           19.71   \n",
            "246           16.39             16.83           30.73           18.29   \n",
            "247           19.78             20.01           24.56           23.26   \n",
            "248           27.75             27.55            27.9           27.82   \n",
            "249           24.08             22.01           21.98           21.86   \n",
            "\n",
            "               8               9     ...            6606            6607  \\\n",
            "0        2023-04-13      2023-04-13  ...      2023-06-30      2023-06-30   \n",
            "1       2331000879D     2344000227D  ...     2334002233D     2348000664D   \n",
            "2           Germany              UK  ...        Slovenia          Poland   \n",
            "3    6Years 9Months  3Years 8Months  ...  8Years 8Months  3Years 7Months   \n",
            "4            Female          Female  ...          Female          Female   \n",
            "..              ...             ...  ...             ...             ...   \n",
            "245           21.27           18.76  ...           20.05           21.44   \n",
            "246            19.2           18.89  ...           17.37           19.06   \n",
            "247           21.62           21.01  ...           21.38            20.4   \n",
            "248           27.71           27.65  ...           16.05           15.96   \n",
            "249           21.37           21.24  ...           17.95           18.37   \n",
            "\n",
            "               6608            6609            6610            6611  \\\n",
            "0        2023-06-30      2023-06-30      2023-06-30      2023-06-30   \n",
            "1       2331003597D     2331003185D     2331003447D     2334002232D   \n",
            "2           Belgium          Norway      Netherland        Slovenia   \n",
            "3    3Years 7Months  1Years 5Months  1Years 5Months  2Years 5Months   \n",
            "4            Female          Female          Female            Male   \n",
            "..              ...             ...             ...             ...   \n",
            "245            21.6           18.46           19.28           19.28   \n",
            "246            19.1           18.23           16.97           16.97   \n",
            "247           20.35           21.23           20.13           20.13   \n",
            "248           15.85           15.76           15.76           15.76   \n",
            "249           17.59           18.89           17.13           17.13   \n",
            "\n",
            "               6612            6613            6614            6615  \n",
            "0        2023-06-30      2023-06-30      2023-06-30      2023-06-30  \n",
            "1       2344000712D     2331003547D     2344000711D     2334002236D  \n",
            "2                UK      Netherland              UK           Spain  \n",
            "3    2Years 5Months  2Years 5Months  2Years 5Months  2Years 5Months  \n",
            "4              Male            Male            Male            Male  \n",
            "..              ...             ...             ...             ...  \n",
            "245           20.99           19.42           19.89           18.79  \n",
            "246           19.72           19.35           17.84           16.53  \n",
            "247           21.65           21.24           20.97           19.07  \n",
            "248           15.66           15.55           15.44            14.9  \n",
            "249           17.25           17.78           17.76           16.76  \n",
            "\n",
            "[250 rows x 6616 columns]\n"
          ]
        }
      ]
    },
    {
      "cell_type": "markdown",
      "source": [
        "### Print the 'shape' of the dataframe"
      ],
      "metadata": {
        "id": "M6yjtn4WGiez"
      }
    },
    {
      "cell_type": "code",
      "source": [
        "print(df.shape)"
      ],
      "metadata": {
        "id": "BbpLo_WBGcYY",
        "colab": {
          "base_uri": "https://localhost:8080/"
        },
        "outputId": "54a6b03b-0ce5-4c6a-abdc-2ea6ca2d94ef"
      },
      "execution_count": null,
      "outputs": [
        {
          "output_type": "stream",
          "name": "stdout",
          "text": [
            "(250, 6616)\n"
          ]
        }
      ]
    },
    {
      "cell_type": "markdown",
      "source": [
        "### Print the number of rows:"
      ],
      "metadata": {
        "id": "OcRJcshNI6SG"
      }
    },
    {
      "cell_type": "code",
      "source": [
        "print(df.shape[0])"
      ],
      "metadata": {
        "id": "npdOHFeOI_0B",
        "colab": {
          "base_uri": "https://localhost:8080/"
        },
        "outputId": "68f9998a-af5e-4f07-818a-fafb1734b382"
      },
      "execution_count": null,
      "outputs": [
        {
          "output_type": "stream",
          "name": "stdout",
          "text": [
            "250\n"
          ]
        }
      ]
    },
    {
      "cell_type": "markdown",
      "source": [
        "### Use the 'head' method to have a look at the first 10 rows of the table"
      ],
      "metadata": {
        "id": "FIQmZ_3i_ex0"
      }
    },
    {
      "cell_type": "code",
      "source": [
        "print(df.head(10))"
      ],
      "metadata": {
        "id": "p0HlMDZF9D-5",
        "colab": {
          "base_uri": "https://localhost:8080/"
        },
        "outputId": "80799e37-6eaa-4ccc-bccb-eb33ada5ff6e"
      },
      "execution_count": null,
      "outputs": [
        {
          "output_type": "stream",
          "name": "stdout",
          "text": [
            "           0                1               2               3     \\\n",
            "0  Date of test       2023-04-13      2023-04-13      2023-04-13   \n",
            "1   Test number      2334000487D     2331000683D     2331000884D   \n",
            "2       Country            Spain      Netherland         Germany   \n",
            "3       Age Y/M  3Years 11Months  2Years 8Months  2Years 8Months   \n",
            "4           Sex           Female            Male            Male   \n",
            "5         Cyn d             18.5           19.67           20.11   \n",
            "6      rCyn d 1            22.99           21.95           20.66   \n",
            "7         Dac g            19.15           19.57           21.78   \n",
            "8         Fes p            21.84            21.3           26.96   \n",
            "9      rLol p 1            22.33           22.23           22.59   \n",
            "\n",
            "             4                 5               6               7     \\\n",
            "0      2023-04-13        2023-04-13      2023-04-13      2023-04-13   \n",
            "1     2331000880D       2331000851D     2331001025D     2331000881D   \n",
            "2         Germany        Netherland          Sweden         Germany   \n",
            "3  7Years 9Months  11Years 11Months  4Years 8Months  1Years 9Months   \n",
            "4          Female              Male          Female            Male   \n",
            "5           18.09             17.92           17.78           18.64   \n",
            "6           21.68             20.56           21.62           22.83   \n",
            "7           18.37             18.12           19.35           19.95   \n",
            "8           24.05             23.21           22.62           21.98   \n",
            "9           21.99             23.16           21.27           22.99   \n",
            "\n",
            "             8               9     ...            6606            6607  \\\n",
            "0      2023-04-13      2023-04-13  ...      2023-06-30      2023-06-30   \n",
            "1     2331000879D     2344000227D  ...     2334002233D     2348000664D   \n",
            "2         Germany              UK  ...        Slovenia          Poland   \n",
            "3  6Years 9Months  3Years 8Months  ...  8Years 8Months  3Years 7Months   \n",
            "4          Female          Female  ...          Female          Female   \n",
            "5            21.3            20.5  ...           16.33           17.18   \n",
            "6            23.2           25.07  ...           23.27           21.77   \n",
            "7           21.52           20.55  ...           19.28           20.33   \n",
            "8           24.55           20.39  ...           21.14           22.39   \n",
            "9           23.95           21.35  ...           17.81           19.57   \n",
            "\n",
            "             6608            6609            6610            6611  \\\n",
            "0      2023-06-30      2023-06-30      2023-06-30      2023-06-30   \n",
            "1     2331003597D     2331003185D     2331003447D     2334002232D   \n",
            "2         Belgium          Norway      Netherland        Slovenia   \n",
            "3  3Years 7Months  1Years 5Months  1Years 5Months  2Years 5Months   \n",
            "4          Female          Female          Female            Male   \n",
            "5           15.48           15.79           18.64           17.44   \n",
            "6           21.78           20.69           26.49           20.76   \n",
            "7           17.34           19.06           18.86           17.84   \n",
            "8           20.93           21.78           19.95           20.64   \n",
            "9           22.76           21.23           21.77           19.41   \n",
            "\n",
            "             6612            6613            6614            6615  \n",
            "0      2023-06-30      2023-06-30      2023-06-30      2023-06-30  \n",
            "1     2344000712D     2331003547D     2344000711D     2334002236D  \n",
            "2              UK      Netherland              UK           Spain  \n",
            "3  2Years 5Months  2Years 5Months  2Years 5Months  2Years 5Months  \n",
            "4            Male            Male            Male            Male  \n",
            "5           17.05           18.42           19.03           16.73  \n",
            "6           21.07           24.48            21.4           20.12  \n",
            "7           18.67           19.99           21.01            17.4  \n",
            "8           20.79           19.24           24.33           20.77  \n",
            "9           22.32           20.15            22.7           20.96  \n",
            "\n",
            "[10 rows x 6616 columns]\n"
          ]
        }
      ]
    },
    {
      "cell_type": "markdown",
      "source": [
        "### Splitting the Data:\n",
        "- As you can see, row 0 to 4 contains the metadata of the experiment\n",
        "- Row 5 to end contains the measured expression data of Allergens\n",
        "\n",
        "Now, we need to split the data into:\n",
        "- Metadata and\n",
        "- Expression data\n",
        "\n",
        "Check the documentation of the pandas method 'iloc'\n",
        "- Split the data, row 0 to 4 and assing it to a variable called: md\n",
        "- From row 5 to end, assing the expression data to a variable called: expr"
      ],
      "metadata": {
        "id": "FGDpXLD4JKbf"
      }
    },
    {
      "cell_type": "code",
      "source": [
        "md = df.iloc[0:5, :]\n",
        "expr = df.iloc[5:, :]\n",
        "\n",
        "\n"
      ],
      "metadata": {
        "id": "GIfzdrCN95Q6"
      },
      "execution_count": null,
      "outputs": []
    },
    {
      "cell_type": "code",
      "source": [],
      "metadata": {
        "id": "q9C8YMSA_u54"
      },
      "execution_count": null,
      "outputs": []
    },
    {
      "cell_type": "markdown",
      "source": [
        "### Print the 'shape' of each new table"
      ],
      "metadata": {
        "id": "YP7i_N0vLXZl"
      }
    },
    {
      "cell_type": "code",
      "source": [
        "print(md.shape)\n",
        "print(expr.shape)\n"
      ],
      "metadata": {
        "id": "ud1T07b-KXmM",
        "colab": {
          "base_uri": "https://localhost:8080/"
        },
        "outputId": "2936fb6e-fda8-4e28-c49a-79c282b40bab"
      },
      "execution_count": null,
      "outputs": [
        {
          "output_type": "stream",
          "name": "stdout",
          "text": [
            "(5, 6616)\n",
            "(245, 6616)\n"
          ]
        }
      ]
    },
    {
      "cell_type": "markdown",
      "source": [
        "### Use the 'head' method to inspect the expr table\n"
      ],
      "metadata": {
        "id": "uFK6FwvxMVtV"
      }
    },
    {
      "cell_type": "code",
      "source": [
        "print(expr.head())"
      ],
      "metadata": {
        "id": "UFm5WkVVKiy0",
        "colab": {
          "base_uri": "https://localhost:8080/"
        },
        "outputId": "303799ea-2657-4183-be93-0ec969ceb20b"
      },
      "execution_count": null,
      "outputs": [
        {
          "output_type": "stream",
          "name": "stdout",
          "text": [
            "       0      1      2      3      4      5      6      7      8      9     \\\n",
            "5     Cyn d   18.5  19.67  20.11  18.09  17.92  17.78  18.64   21.3   20.5   \n",
            "6  rCyn d 1  22.99  21.95  20.66  21.68  20.56  21.62  22.83   23.2  25.07   \n",
            "7     Dac g  19.15  19.57  21.78  18.37  18.12  19.35  19.95  21.52  20.55   \n",
            "8     Fes p  21.84   21.3  26.96  24.05  23.21  22.62  21.98  24.55  20.39   \n",
            "9  rLol p 1  22.33  22.23  22.59  21.99  23.16  21.27  22.99  23.95  21.35   \n",
            "\n",
            "   ...   6606   6607   6608   6609   6610   6611   6612   6613   6614   6615  \n",
            "5  ...  16.33  17.18  15.48  15.79  18.64  17.44  17.05  18.42  19.03  16.73  \n",
            "6  ...  23.27  21.77  21.78  20.69  26.49  20.76  21.07  24.48   21.4  20.12  \n",
            "7  ...  19.28  20.33  17.34  19.06  18.86  17.84  18.67  19.99  21.01   17.4  \n",
            "8  ...  21.14  22.39  20.93  21.78  19.95  20.64  20.79  19.24  24.33  20.77  \n",
            "9  ...  17.81  19.57  22.76  21.23  21.77  19.41  22.32  20.15   22.7  20.96  \n",
            "\n",
            "[5 rows x 6616 columns]\n"
          ]
        }
      ]
    },
    {
      "cell_type": "markdown",
      "source": [
        "As you can see column 0 contains the name of the Allergens\n",
        "\n",
        "- Set the Allergen names as the index of the table (similar to rownames in R)example:   'expr.index = ...'\n",
        "- 'drop' the column 0 and override the current variable"
      ],
      "metadata": {
        "id": "6DLnuds7NaeC"
      }
    },
    {
      "cell_type": "code",
      "source": [
        "expr.index = expr.iloc[:, 0]"
      ],
      "metadata": {
        "id": "ZhLA3hNhMJCh"
      },
      "execution_count": null,
      "outputs": []
    },
    {
      "cell_type": "code",
      "source": [
        "expr = expr.drop(columns=expr.columns[0])\n",
        "print(expr)"
      ],
      "metadata": {
        "id": "ZI85erLrNF_s",
        "colab": {
          "base_uri": "https://localhost:8080/"
        },
        "outputId": "0d027963-b40c-4764-b258-f7c451414843"
      },
      "execution_count": null,
      "outputs": [
        {
          "output_type": "stream",
          "name": "stdout",
          "text": [
            "                1      2      3      4      5      6      7      8      9     \\\n",
            "0                                                                              \n",
            "Cyn d           18.5  19.67  20.11  18.09  17.92  17.78  18.64   21.3   20.5   \n",
            "rCyn d 1       22.99  21.95  20.66  21.68  20.56  21.62  22.83   23.2  25.07   \n",
            "Dac g          19.15  19.57  21.78  18.37  18.12  19.35  19.95  21.52  20.55   \n",
            "Fes p          21.84   21.3  26.96  24.05  23.21  22.62  21.98  24.55  20.39   \n",
            "rLol p 1       22.33  22.23  22.59  21.99  23.16  21.27  22.99  23.95  21.35   \n",
            "...              ...    ...    ...    ...    ...    ...    ...    ...    ...   \n",
            "Sola t         22.05  22.33  22.33  21.61  21.85  20.94  19.71  21.27  18.76   \n",
            "rSola t 2      22.36  24.08  24.08  16.39  16.83  30.73  18.29   19.2  18.89   \n",
            "rSola t_GBSSI  23.43  24.02  24.02  19.78  20.01  24.56  23.26  21.62  21.01   \n",
            "rHom s LF      27.51  27.94  27.94  27.75  27.55   27.9  27.82  27.71  27.65   \n",
            "CCD-HSA           27  25.61  25.61  24.08  22.01  21.98  21.86  21.37  21.24   \n",
            "\n",
            "                10    ...   6606   6607   6608   6609   6610   6611   6612  \\\n",
            "0                     ...                                                    \n",
            "Cyn d          17.64  ...  16.33  17.18  15.48  15.79  18.64  17.44  17.05   \n",
            "rCyn d 1       22.32  ...  23.27  21.77  21.78  20.69  26.49  20.76  21.07   \n",
            "Dac g          19.35  ...  19.28  20.33  17.34  19.06  18.86  17.84  18.67   \n",
            "Fes p          22.08  ...  21.14  22.39  20.93  21.78  19.95  20.64  20.79   \n",
            "rLol p 1       22.06  ...  17.81  19.57  22.76  21.23  21.77  19.41  22.32   \n",
            "...              ...  ...    ...    ...    ...    ...    ...    ...    ...   \n",
            "Sola t         18.76  ...  20.05  21.44   21.6  18.46  19.28  19.28  20.99   \n",
            "rSola t 2      18.89  ...  17.37  19.06   19.1  18.23  16.97  16.97  19.72   \n",
            "rSola t_GBSSI  21.01  ...  21.38   20.4  20.35  21.23  20.13  20.13  21.65   \n",
            "rHom s LF      27.65  ...  16.05  15.96  15.85  15.76  15.76  15.76  15.66   \n",
            "CCD-HSA        21.24  ...  17.95  18.37  17.59  18.89  17.13  17.13  17.25   \n",
            "\n",
            "                6613   6614   6615  \n",
            "0                                   \n",
            "Cyn d          18.42  19.03  16.73  \n",
            "rCyn d 1       24.48   21.4  20.12  \n",
            "Dac g          19.99  21.01   17.4  \n",
            "Fes p          19.24  24.33  20.77  \n",
            "rLol p 1       20.15   22.7  20.96  \n",
            "...              ...    ...    ...  \n",
            "Sola t         19.42  19.89  18.79  \n",
            "rSola t 2      19.35  17.84  16.53  \n",
            "rSola t_GBSSI  21.24  20.97  19.07  \n",
            "rHom s LF      15.55  15.44   14.9  \n",
            "CCD-HSA        17.78  17.76  16.76  \n",
            "\n",
            "[245 rows x 6615 columns]\n"
          ]
        }
      ]
    },
    {
      "cell_type": "markdown",
      "source": [
        "### Cleaning the Metadata\n",
        "- Use 'head' to look into the metadata\n",
        "Note that we want to use the rows as columns, therefore:\n",
        "- Transpose the metadata\n",
        "- Change the table: row 0 should be the column names"
      ],
      "metadata": {
        "id": "ePM108KeRjfe"
      }
    },
    {
      "cell_type": "code",
      "source": [
        "print(md.head())"
      ],
      "metadata": {
        "id": "8L0bNeDfdpKN",
        "colab": {
          "base_uri": "https://localhost:8080/"
        },
        "outputId": "a3f6f786-3b04-4385-81d6-d4419dee41be"
      },
      "execution_count": null,
      "outputs": [
        {
          "output_type": "stream",
          "name": "stdout",
          "text": [
            "           0                1               2               3     \\\n",
            "0  Date of test       2023-04-13      2023-04-13      2023-04-13   \n",
            "1   Test number      2334000487D     2331000683D     2331000884D   \n",
            "2       Country            Spain      Netherland         Germany   \n",
            "3       Age Y/M  3Years 11Months  2Years 8Months  2Years 8Months   \n",
            "4           Sex           Female            Male            Male   \n",
            "\n",
            "             4                 5               6               7     \\\n",
            "0      2023-04-13        2023-04-13      2023-04-13      2023-04-13   \n",
            "1     2331000880D       2331000851D     2331001025D     2331000881D   \n",
            "2         Germany        Netherland          Sweden         Germany   \n",
            "3  7Years 9Months  11Years 11Months  4Years 8Months  1Years 9Months   \n",
            "4          Female              Male          Female            Male   \n",
            "\n",
            "             8               9     ...            6606            6607  \\\n",
            "0      2023-04-13      2023-04-13  ...      2023-06-30      2023-06-30   \n",
            "1     2331000879D     2344000227D  ...     2334002233D     2348000664D   \n",
            "2         Germany              UK  ...        Slovenia          Poland   \n",
            "3  6Years 9Months  3Years 8Months  ...  8Years 8Months  3Years 7Months   \n",
            "4          Female          Female  ...          Female          Female   \n",
            "\n",
            "             6608            6609            6610            6611  \\\n",
            "0      2023-06-30      2023-06-30      2023-06-30      2023-06-30   \n",
            "1     2331003597D     2331003185D     2331003447D     2334002232D   \n",
            "2         Belgium          Norway      Netherland        Slovenia   \n",
            "3  3Years 7Months  1Years 5Months  1Years 5Months  2Years 5Months   \n",
            "4          Female          Female          Female            Male   \n",
            "\n",
            "             6612            6613            6614            6615  \n",
            "0      2023-06-30      2023-06-30      2023-06-30      2023-06-30  \n",
            "1     2344000712D     2331003547D     2344000711D     2334002236D  \n",
            "2              UK      Netherland              UK           Spain  \n",
            "3  2Years 5Months  2Years 5Months  2Years 5Months  2Years 5Months  \n",
            "4            Male            Male            Male            Male  \n",
            "\n",
            "[5 rows x 6616 columns]\n"
          ]
        }
      ]
    },
    {
      "cell_type": "code",
      "source": [
        "md_transposed = md.transpose()\n",
        "print(md_transposed)\n"
      ],
      "metadata": {
        "id": "YtnioXHEQWPX",
        "colab": {
          "base_uri": "https://localhost:8080/"
        },
        "outputId": "6f91aabf-23b4-477e-ad95-828fb5a83fbd"
      },
      "execution_count": null,
      "outputs": [
        {
          "output_type": "stream",
          "name": "stdout",
          "text": [
            "                 0            1           2                3       4\n",
            "0     Date of test  Test number     Country          Age Y/M     Sex\n",
            "1       2023-04-13  2334000487D       Spain  3Years 11Months  Female\n",
            "2       2023-04-13  2331000683D  Netherland   2Years 8Months    Male\n",
            "3       2023-04-13  2331000884D     Germany   2Years 8Months    Male\n",
            "4       2023-04-13  2331000880D     Germany   7Years 9Months  Female\n",
            "...            ...          ...         ...              ...     ...\n",
            "6611    2023-06-30  2334002232D    Slovenia   2Years 5Months    Male\n",
            "6612    2023-06-30  2344000712D          UK   2Years 5Months    Male\n",
            "6613    2023-06-30  2331003547D  Netherland   2Years 5Months    Male\n",
            "6614    2023-06-30  2344000711D          UK   2Years 5Months    Male\n",
            "6615    2023-06-30  2334002236D       Spain   2Years 5Months    Male\n",
            "\n",
            "[6616 rows x 5 columns]\n"
          ]
        }
      ]
    },
    {
      "cell_type": "code",
      "source": [
        "md_transposed.columns = md_transposed.iloc[0]\n",
        "print(md_transposed)"
      ],
      "metadata": {
        "id": "NNVU0oJpSF7O",
        "colab": {
          "base_uri": "https://localhost:8080/"
        },
        "outputId": "8c990a39-9d92-471b-96b0-14807251d581"
      },
      "execution_count": null,
      "outputs": [
        {
          "output_type": "stream",
          "name": "stdout",
          "text": [
            "0     Date of test  Test number     Country          Age Y/M     Sex\n",
            "0     Date of test  Test number     Country          Age Y/M     Sex\n",
            "1       2023-04-13  2334000487D       Spain  3Years 11Months  Female\n",
            "2       2023-04-13  2331000683D  Netherland   2Years 8Months    Male\n",
            "3       2023-04-13  2331000884D     Germany   2Years 8Months    Male\n",
            "4       2023-04-13  2331000880D     Germany   7Years 9Months  Female\n",
            "...            ...          ...         ...              ...     ...\n",
            "6611    2023-06-30  2334002232D    Slovenia   2Years 5Months    Male\n",
            "6612    2023-06-30  2344000712D          UK   2Years 5Months    Male\n",
            "6613    2023-06-30  2331003547D  Netherland   2Years 5Months    Male\n",
            "6614    2023-06-30  2344000711D          UK   2Years 5Months    Male\n",
            "6615    2023-06-30  2334002236D       Spain   2Years 5Months    Male\n",
            "\n",
            "[6616 rows x 5 columns]\n"
          ]
        }
      ]
    },
    {
      "cell_type": "markdown",
      "source": [
        "- Make sure to remove the first row, which now has become the column names"
      ],
      "metadata": {
        "id": "j9JPHcgcetB4"
      }
    },
    {
      "cell_type": "code",
      "source": [
        "md_transposed = md_transposed[1:]\n",
        "print(md_transposed)"
      ],
      "metadata": {
        "id": "gLl-NPoxSiuv",
        "colab": {
          "base_uri": "https://localhost:8080/"
        },
        "outputId": "25ff5991-0c44-47c6-b98d-7468aee94e7e"
      },
      "execution_count": null,
      "outputs": [
        {
          "output_type": "stream",
          "name": "stdout",
          "text": [
            "0    Date of test  Test number     Country           Age Y/M     Sex\n",
            "1      2023-04-13  2334000487D       Spain   3Years 11Months  Female\n",
            "2      2023-04-13  2331000683D  Netherland    2Years 8Months    Male\n",
            "3      2023-04-13  2331000884D     Germany    2Years 8Months    Male\n",
            "4      2023-04-13  2331000880D     Germany    7Years 9Months  Female\n",
            "5      2023-04-13  2331000851D  Netherland  11Years 11Months    Male\n",
            "...           ...          ...         ...               ...     ...\n",
            "6611   2023-06-30  2334002232D    Slovenia    2Years 5Months    Male\n",
            "6612   2023-06-30  2344000712D          UK    2Years 5Months    Male\n",
            "6613   2023-06-30  2331003547D  Netherland    2Years 5Months    Male\n",
            "6614   2023-06-30  2344000711D          UK    2Years 5Months    Male\n",
            "6615   2023-06-30  2334002236D       Spain    2Years 5Months    Male\n",
            "\n",
            "[6615 rows x 5 columns]\n"
          ]
        }
      ]
    },
    {
      "cell_type": "markdown",
      "source": [
        "### Use 'head' to inspect your table and make sure it looks as below:\n",
        "\n",
        "\tDate of test Test number\tCountry\tAge Y/M**\n",
        "\n",
        "1\t2023-04-13\t2334000487D\tSpain\t3Years 11Months\n",
        "\n",
        "2\t2023-04-13\t2331000683D\tNetherland\t2Years 8Months\n",
        "\n",
        "3\t2023-04-13\t2331000884D\tGermany\t2Years 8Months\n",
        "\n",
        "4\t2023-04-13\t2331000880D\tGermany\t7Years 9Months\n",
        "\n",
        "5\t2023-04-13\t2331000851D\tNetherland\t11Years 11Months"
      ],
      "metadata": {
        "id": "UCIywvdoe8dt"
      }
    },
    {
      "cell_type": "code",
      "source": [
        "print(md_transposed.head())"
      ],
      "metadata": {
        "id": "kbloxM7FWPlc",
        "colab": {
          "base_uri": "https://localhost:8080/"
        },
        "outputId": "a52949fe-dc8e-4ce6-9112-bde5a66a2f8e"
      },
      "execution_count": null,
      "outputs": [
        {
          "output_type": "stream",
          "name": "stdout",
          "text": [
            "0 Date of test  Test number     Country           Age Y/M     Sex\n",
            "1   2023-04-13  2334000487D       Spain   3Years 11Months  Female\n",
            "2   2023-04-13  2331000683D  Netherland    2Years 8Months    Male\n",
            "3   2023-04-13  2331000884D     Germany    2Years 8Months    Male\n",
            "4   2023-04-13  2331000880D     Germany    7Years 9Months  Female\n",
            "5   2023-04-13  2331000851D  Netherland  11Years 11Months    Male\n"
          ]
        }
      ]
    },
    {
      "cell_type": "markdown",
      "source": [
        "### Rename the Metadata columns\n",
        "- rename the columns 'Date of test' to 'Date', 'Test number' to 'TestID' and 'Age Y/M' to 'Age (M)'"
      ],
      "metadata": {
        "id": "-fM9HLLNZXNi"
      }
    },
    {
      "cell_type": "code",
      "source": [
        "md_transposed.rename(columns={\n",
        "    'Date of test': 'Date',\n",
        "    'Test number': 'TestID',\n",
        "    'Age Y/M': 'Age (M)'\n",
        "}, inplace=True)\n",
        "print(md_transposed.head())"
      ],
      "metadata": {
        "id": "_LWmnfKCtH0i",
        "colab": {
          "base_uri": "https://localhost:8080/"
        },
        "outputId": "84e3978f-510d-4234-c7e1-969ffb94ca01"
      },
      "execution_count": null,
      "outputs": [
        {
          "output_type": "stream",
          "name": "stdout",
          "text": [
            "0        Date       TestID     Country           Age (M)     Sex\n",
            "1  2023-04-13  2334000487D       Spain   3Years 11Months  Female\n",
            "2  2023-04-13  2331000683D  Netherland    2Years 8Months    Male\n",
            "3  2023-04-13  2331000884D     Germany    2Years 8Months    Male\n",
            "4  2023-04-13  2331000880D     Germany    7Years 9Months  Female\n",
            "5  2023-04-13  2331000851D  Netherland  11Years 11Months    Male\n"
          ]
        }
      ]
    },
    {
      "cell_type": "markdown",
      "source": [
        "### Convert the Age column\n",
        "The function below converts a string into a number of total month e.g.:\n",
        "\n",
        "\"2Years 8Months\" convert to 32.0\n",
        "\n",
        "- use the below function to convert each 'string' from the Age column into a number (float)\n",
        "- Hint: check the function '.apply(convert_to_month)' which works on a dataframe column"
      ],
      "metadata": {
        "id": "5b6bsj-atFuq"
      }
    },
    {
      "cell_type": "code",
      "source": [
        "import re\n",
        "\n",
        "def convert_to_months(duration_str):\n",
        "        # Check for missing or empty entries\n",
        "    if pd.isnull(duration_str) or duration_str.strip() == \"\":\n",
        "        return None\n",
        "\n",
        "\n",
        "    # Regular expression to find years and months in the input string\n",
        "    year_pattern = re.compile(r\"(\\d+)\\s*Years?\")\n",
        "    month_pattern = re.compile(r\"(\\d+)\\s*Months?\")\n",
        "\n",
        "    # Search for years and months in the input string\n",
        "    years_match = year_pattern.search(duration_str)\n",
        "    months_match = month_pattern.search(duration_str)\n",
        "\n",
        "    # Extract years and months from the matches\n",
        "    years = int(years_match.group(1)) if years_match else 0\n",
        "    months = int(months_match.group(1)) if months_match else 0\n",
        "\n",
        "    # Convert years to months and add to months\n",
        "    total_months = (years * 12) + months\n",
        "\n",
        "    return int(total_months)\n"
      ],
      "metadata": {
        "id": "qb0qxwYabnxg"
      },
      "execution_count": null,
      "outputs": []
    },
    {
      "cell_type": "code",
      "source": [
        "# convert md['Age (M)'] to number\n",
        "# write your code here:\n",
        "md_transposed['Age (M)'] = md_transposed['Age (M)'].apply(convert_to_months)\n",
        "\n"
      ],
      "metadata": {
        "id": "Tmqa7N1Dc72Q"
      },
      "execution_count": null,
      "outputs": []
    },
    {
      "cell_type": "markdown",
      "source": [
        "Check the result with 'head'"
      ],
      "metadata": {
        "id": "uG_SBjqjt8pg"
      }
    },
    {
      "cell_type": "code",
      "source": [
        "print(md_transposed.head())\n",
        "print(md_transposed)"
      ],
      "metadata": {
        "id": "ATSXGe5IfEaD",
        "colab": {
          "base_uri": "https://localhost:8080/"
        },
        "outputId": "3b9f359c-a3f7-4e53-8a30-7667197cda21"
      },
      "execution_count": null,
      "outputs": [
        {
          "output_type": "stream",
          "name": "stdout",
          "text": [
            "0        Date       TestID     Country  Age (M)     Sex\n",
            "1  2023-04-13  2334000487D       Spain     47.0  Female\n",
            "2  2023-04-13  2331000683D  Netherland     32.0    Male\n",
            "3  2023-04-13  2331000884D     Germany     32.0    Male\n",
            "4  2023-04-13  2331000880D     Germany     93.0  Female\n",
            "5  2023-04-13  2331000851D  Netherland    143.0    Male\n",
            "0           Date       TestID     Country  Age (M)     Sex\n",
            "1     2023-04-13  2334000487D       Spain     47.0  Female\n",
            "2     2023-04-13  2331000683D  Netherland     32.0    Male\n",
            "3     2023-04-13  2331000884D     Germany     32.0    Male\n",
            "4     2023-04-13  2331000880D     Germany     93.0  Female\n",
            "5     2023-04-13  2331000851D  Netherland    143.0    Male\n",
            "...          ...          ...         ...      ...     ...\n",
            "6611  2023-06-30  2334002232D    Slovenia     29.0    Male\n",
            "6612  2023-06-30  2344000712D          UK     29.0    Male\n",
            "6613  2023-06-30  2331003547D  Netherland     29.0    Male\n",
            "6614  2023-06-30  2344000711D          UK     29.0    Male\n",
            "6615  2023-06-30  2334002236D       Spain     29.0    Male\n",
            "\n",
            "[6615 rows x 5 columns]\n"
          ]
        }
      ]
    },
    {
      "cell_type": "markdown",
      "source": [
        "### Rename the columns of expr\n",
        "- use the Test Number from md['Test number'] as new column names for the expr data"
      ],
      "metadata": {
        "id": "sY4MxunMXKIn"
      }
    },
    {
      "cell_type": "code",
      "source": [
        "new_column_names = md_transposed['TestID'].astype(str).values\n",
        "expr.columns = new_column_names\n",
        "print(expr)\n",
        "print(expr.shape)\n",
        "print(md_transposed.shape)"
      ],
      "metadata": {
        "id": "IYVz2rJDWV8L",
        "colab": {
          "base_uri": "https://localhost:8080/"
        },
        "outputId": "ff42d9cc-a6a7-4adb-e0cc-36ab60c7c694"
      },
      "execution_count": null,
      "outputs": [
        {
          "output_type": "stream",
          "name": "stdout",
          "text": [
            "              2334000487D 2331000683D 2331000884D 2331000880D 2331000851D  \\\n",
            "0                                                                           \n",
            "Cyn d                18.5       19.67       20.11       18.09       17.92   \n",
            "rCyn d 1            22.99       21.95       20.66       21.68       20.56   \n",
            "Dac g               19.15       19.57       21.78       18.37       18.12   \n",
            "Fes p               21.84        21.3       26.96       24.05       23.21   \n",
            "rLol p 1            22.33       22.23       22.59       21.99       23.16   \n",
            "...                   ...         ...         ...         ...         ...   \n",
            "Sola t              22.05       22.33       22.33       21.61       21.85   \n",
            "rSola t 2           22.36       24.08       24.08       16.39       16.83   \n",
            "rSola t_GBSSI       23.43       24.02       24.02       19.78       20.01   \n",
            "rHom s LF           27.51       27.94       27.94       27.75       27.55   \n",
            "CCD-HSA                27       25.61       25.61       24.08       22.01   \n",
            "\n",
            "              2331001025D 2331000881D 2331000879D 2344000227D 2334000522D  \\\n",
            "0                                                                           \n",
            "Cyn d               17.78       18.64        21.3        20.5       17.64   \n",
            "rCyn d 1            21.62       22.83        23.2       25.07       22.32   \n",
            "Dac g               19.35       19.95       21.52       20.55       19.35   \n",
            "Fes p               22.62       21.98       24.55       20.39       22.08   \n",
            "rLol p 1            21.27       22.99       23.95       21.35       22.06   \n",
            "...                   ...         ...         ...         ...         ...   \n",
            "Sola t              20.94       19.71       21.27       18.76       18.76   \n",
            "rSola t 2           30.73       18.29        19.2       18.89       18.89   \n",
            "rSola t_GBSSI       24.56       23.26       21.62       21.01       21.01   \n",
            "rHom s LF            27.9       27.82       27.71       27.65       27.65   \n",
            "CCD-HSA             21.98       21.86       21.37       21.24       21.24   \n",
            "\n",
            "               ... 2334002233D 2348000664D 2331003597D 2331003185D  \\\n",
            "0              ...                                                   \n",
            "Cyn d          ...       16.33       17.18       15.48       15.79   \n",
            "rCyn d 1       ...       23.27       21.77       21.78       20.69   \n",
            "Dac g          ...       19.28       20.33       17.34       19.06   \n",
            "Fes p          ...       21.14       22.39       20.93       21.78   \n",
            "rLol p 1       ...       17.81       19.57       22.76       21.23   \n",
            "...            ...         ...         ...         ...         ...   \n",
            "Sola t         ...       20.05       21.44        21.6       18.46   \n",
            "rSola t 2      ...       17.37       19.06        19.1       18.23   \n",
            "rSola t_GBSSI  ...       21.38        20.4       20.35       21.23   \n",
            "rHom s LF      ...       16.05       15.96       15.85       15.76   \n",
            "CCD-HSA        ...       17.95       18.37       17.59       18.89   \n",
            "\n",
            "              2331003447D 2334002232D 2344000712D 2331003547D 2344000711D  \\\n",
            "0                                                                           \n",
            "Cyn d               18.64       17.44       17.05       18.42       19.03   \n",
            "rCyn d 1            26.49       20.76       21.07       24.48        21.4   \n",
            "Dac g               18.86       17.84       18.67       19.99       21.01   \n",
            "Fes p               19.95       20.64       20.79       19.24       24.33   \n",
            "rLol p 1            21.77       19.41       22.32       20.15        22.7   \n",
            "...                   ...         ...         ...         ...         ...   \n",
            "Sola t              19.28       19.28       20.99       19.42       19.89   \n",
            "rSola t 2           16.97       16.97       19.72       19.35       17.84   \n",
            "rSola t_GBSSI       20.13       20.13       21.65       21.24       20.97   \n",
            "rHom s LF           15.76       15.76       15.66       15.55       15.44   \n",
            "CCD-HSA             17.13       17.13       17.25       17.78       17.76   \n",
            "\n",
            "              2334002236D  \n",
            "0                          \n",
            "Cyn d               16.73  \n",
            "rCyn d 1            20.12  \n",
            "Dac g                17.4  \n",
            "Fes p               20.77  \n",
            "rLol p 1            20.96  \n",
            "...                   ...  \n",
            "Sola t              18.79  \n",
            "rSola t 2           16.53  \n",
            "rSola t_GBSSI       19.07  \n",
            "rHom s LF            14.9  \n",
            "CCD-HSA             16.76  \n",
            "\n",
            "[245 rows x 6615 columns]\n",
            "(245, 6615)\n",
            "(6615, 5)\n"
          ]
        }
      ]
    },
    {
      "cell_type": "markdown",
      "source": [
        "### Print the shapes of both tables\n",
        "- check if the number of columns in expr matches the number of rows in md"
      ],
      "metadata": {
        "id": "rDGDdLM8XphK"
      }
    },
    {
      "cell_type": "markdown",
      "source": [
        "### Dropping duplicates and keep='first'"
      ],
      "metadata": {
        "id": "nOLYa7r6fk2t"
      }
    },
    {
      "cell_type": "code",
      "source": [
        "# This function can be use to inspect if there a duplictes within a column\n",
        "md_transposed['TestID'].duplicated()"
      ],
      "metadata": {
        "id": "e7XyxZV5SHBb",
        "colab": {
          "base_uri": "https://localhost:8080/"
        },
        "outputId": "f039cba2-eb3d-40cc-f849-cb5c2f20559a"
      },
      "execution_count": null,
      "outputs": [
        {
          "output_type": "execute_result",
          "data": {
            "text/plain": [
              "1       False\n",
              "2       False\n",
              "3       False\n",
              "4       False\n",
              "5       False\n",
              "        ...  \n",
              "6611    False\n",
              "6612    False\n",
              "6613     True\n",
              "6614    False\n",
              "6615    False\n",
              "Name: TestID, Length: 6615, dtype: bool"
            ]
          },
          "metadata": {},
          "execution_count": 30
        }
      ]
    },
    {
      "cell_type": "code",
      "source": [
        "# remove duplicate values in TestID column\n",
        "# Hint: check the function: 'drop_duplicates'\n",
        "# Hint: use the parameter 'keep='first'' to keep the first occurance and remove following duplicates\n",
        "md_transposed = md_transposed.drop_duplicates(subset=['TestID'], keep='first')\n",
        "print(md_transposed)"
      ],
      "metadata": {
        "id": "bEKgsnPafkRb",
        "colab": {
          "base_uri": "https://localhost:8080/"
        },
        "outputId": "347c3755-0044-4867-ea40-3157be950257"
      },
      "execution_count": null,
      "outputs": [
        {
          "output_type": "stream",
          "name": "stdout",
          "text": [
            "0           Date       TestID     Country  Age (M)     Sex\n",
            "1     2023-04-13  2334000487D       Spain     47.0  Female\n",
            "2     2023-04-13  2331000683D  Netherland     32.0    Male\n",
            "3     2023-04-13  2331000884D     Germany     32.0    Male\n",
            "4     2023-04-13  2331000880D     Germany     93.0  Female\n",
            "5     2023-04-13  2331000851D  Netherland    143.0    Male\n",
            "...          ...          ...         ...      ...     ...\n",
            "6606  2023-06-30  2334002233D    Slovenia    104.0  Female\n",
            "6611  2023-06-30  2334002232D    Slovenia     29.0    Male\n",
            "6612  2023-06-30  2344000712D          UK     29.0    Male\n",
            "6614  2023-06-30  2344000711D          UK     29.0    Male\n",
            "6615  2023-06-30  2334002236D       Spain     29.0    Male\n",
            "\n",
            "[5814 rows x 5 columns]\n"
          ]
        }
      ]
    },
    {
      "cell_type": "markdown",
      "source": [
        "### Don't forget to drop the duplicates on the expression data as well:"
      ],
      "metadata": {
        "id": "CjgXThY1f8FS"
      }
    },
    {
      "cell_type": "code",
      "source": [
        "# example:\n",
        "\n",
        "# df = df.loc[:, ~df.columns.duplicated()]\n",
        "\n",
        "# where df.columns.duplicated(): returns a boolean array of duplicates\n",
        "# ~ negates the boolean values: True is False and False is True\n",
        "expr = expr.loc[:, ~expr.columns.duplicated()]\n",
        "print(expr.shape)\n",
        "print(md_transposed.shape)\n"
      ],
      "metadata": {
        "id": "_9b1mQlLgHOe",
        "colab": {
          "base_uri": "https://localhost:8080/"
        },
        "outputId": "42d4dae4-dce2-4c4e-d4f9-5a4802509c40"
      },
      "execution_count": null,
      "outputs": [
        {
          "output_type": "stream",
          "name": "stdout",
          "text": [
            "(245, 5814)\n",
            "(5814, 5)\n"
          ]
        }
      ]
    },
    {
      "cell_type": "markdown",
      "source": [
        "### Print the shapes of both table and make sure the number of rows in md and the number of columns in expr are matching"
      ],
      "metadata": {
        "id": "ilTwsoAtiJxc"
      }
    },
    {
      "cell_type": "markdown",
      "source": [
        "### Saving the DATA\n",
        "After initial cleaning, let's save the data in its current form:\n",
        "- save both tables as csv file in the current directory"
      ],
      "metadata": {
        "id": "3J5PXgF6JDmz"
      }
    },
    {
      "cell_type": "code",
      "source": [
        "md_transposed.to_csv('md_transposed.csv', index=False)\n",
        "expr.to_csv('expr.csv')"
      ],
      "metadata": {
        "id": "7XaJwznRJisK"
      },
      "execution_count": null,
      "outputs": []
    },
    {
      "cell_type": "markdown",
      "source": [
        "### Subsetting the data\n",
        "- subset the metadata and expression data to county = 'Spain'\n",
        "\n",
        "Hint: use the TestID on the filtered data to subset on the expression data"
      ],
      "metadata": {
        "id": "gMFOzMKyM4_0"
      }
    },
    {
      "cell_type": "code",
      "source": [
        "md_spain = md_transposed.loc[md_transposed.Country == 'Spain', :]\n",
        "md_spain = md_spain.dropna(subset=['TestID'])\n",
        "testIdSpain = md_spain.TestID\n",
        "expr_spain = expr[testIdSpain]\n",
        "print(md_spain)\n",
        "print(expr_spain)\n"
      ],
      "metadata": {
        "id": "_eFTKBZGNMgI",
        "colab": {
          "base_uri": "https://localhost:8080/"
        },
        "outputId": "f49f0719-41ef-4d09-c3ef-f8809b51aab2"
      },
      "execution_count": null,
      "outputs": [
        {
          "output_type": "stream",
          "name": "stdout",
          "text": [
            "0           Date       TestID Country  Age (M)     Sex\n",
            "1     2023-04-13  2334000487D   Spain     47.0  Female\n",
            "12    2023-04-13  2334000505D   Spain     20.0  Female\n",
            "16    2023-04-13  2334000499D   Spain     44.0  Female\n",
            "19    2023-04-13  2334000473D   Spain     81.0  Female\n",
            "21    2023-04-13  2334000501D   Spain     93.0  Female\n",
            "...          ...          ...     ...      ...     ...\n",
            "6476  2023-06-29  2334002191D   Spain     50.0  Female\n",
            "6491  2023-06-29  2334002204D   Spain     70.0    Male\n",
            "6496  2023-06-29  2334002203D   Spain     64.0    Male\n",
            "6568  2023-06-30  2334002235D   Spain    134.0  Female\n",
            "6615  2023-06-30  2334002236D   Spain     29.0    Male\n",
            "\n",
            "[521 rows x 5 columns]\n",
            "              2334000487D 2334000505D 2334000499D 2334000473D 2334000501D  \\\n",
            "0                                                                           \n",
            "Cyn d                18.5       17.45       19.15       18.33       19.78   \n",
            "rCyn d 1            22.99       22.43       22.35       19.35       23.26   \n",
            "Dac g               19.15       17.78       19.84       18.46       21.16   \n",
            "Fes p               21.84       20.18       21.42       22.56       22.57   \n",
            "rLol p 1            22.33       18.16       24.26       22.83       21.69   \n",
            "...                   ...         ...         ...         ...         ...   \n",
            "Sola t              22.05       20.76       21.71       22.08       19.74   \n",
            "rSola t 2           22.36       16.73        20.3       20.77       18.76   \n",
            "rSola t_GBSSI       23.43        20.6       19.18       23.71       22.57   \n",
            "rHom s LF           27.51       27.84       27.61       27.65       27.81   \n",
            "CCD-HSA                27       21.17       20.55       20.19       19.06   \n",
            "\n",
            "              2334000506D 2334000528D 2334000510D 2334000526D 2334000504D  \\\n",
            "0                                                                           \n",
            "Cyn d               18.46       18.84        18.4       16.54       16.12   \n",
            "rCyn d 1            21.81       23.01       23.47       22.29       19.82   \n",
            "Dac g               19.92       19.55       19.58       17.51       17.99   \n",
            "Fes p               20.73       23.41       23.92       20.12       18.63   \n",
            "rLol p 1             22.9       22.67       23.48       24.36       21.72   \n",
            "...                   ...         ...         ...         ...         ...   \n",
            "Sola t              21.03       21.78       18.09       18.86       19.51   \n",
            "rSola t 2           17.24       20.29       17.01       17.52       21.65   \n",
            "rSola t_GBSSI       19.23        23.2       18.83        21.4       20.56   \n",
            "rHom s LF           27.87       27.44       26.85       27.34       27.48   \n",
            "CCD-HSA             18.62       27.57       27.43          27       24.29   \n",
            "\n",
            "               ... 2334002212D 2334002211D 2334002210D 2334002209D  \\\n",
            "0              ...                                                   \n",
            "Cyn d          ...       16.36       19.08        16.4       16.33   \n",
            "rCyn d 1       ...       21.34       22.12       22.02       33.98   \n",
            "Dac g          ...       21.86       17.99          19       19.67   \n",
            "Fes p          ...       20.29       18.71       17.35       20.37   \n",
            "rLol p 1       ...       22.73       20.32       21.78       21.61   \n",
            "...            ...         ...         ...         ...         ...   \n",
            "Sola t         ...        22.6       18.19       20.01       19.18   \n",
            "rSola t 2      ...       21.06       17.31       17.48       16.57   \n",
            "rSola t_GBSSI  ...        24.6       18.47       23.31       20.84   \n",
            "rHom s LF      ...       17.49       17.48       17.44        17.4   \n",
            "CCD-HSA        ...       20.09       18.76       19.47       17.58   \n",
            "\n",
            "              2334002208D 2334002191D 2334002204D 2334002203D 2334002235D  \\\n",
            "0                                                                           \n",
            "Cyn d               17.57        16.2       16.93       17.64       16.91   \n",
            "rCyn d 1            22.35       21.64        20.8        23.1       21.79   \n",
            "Dac g               19.42       17.41       19.18       16.93       18.67   \n",
            "Fes p                21.3       18.64       21.82       18.81       18.97   \n",
            "rLol p 1            20.91       20.01       21.52       21.03       19.57   \n",
            "...                   ...         ...         ...         ...         ...   \n",
            "Sola t              21.82       17.84       21.28       20.87       20.02   \n",
            "rSola t 2           21.16       18.56       17.28       17.37       19.04   \n",
            "rSola t_GBSSI       23.38       21.67       20.77       22.99       19.54   \n",
            "rHom s LF           17.38       17.37       17.34       17.31       16.76   \n",
            "CCD-HSA             18.56       18.33       17.11       16.56        20.3   \n",
            "\n",
            "              2334002236D  \n",
            "0                          \n",
            "Cyn d               16.73  \n",
            "rCyn d 1            20.12  \n",
            "Dac g                17.4  \n",
            "Fes p               20.77  \n",
            "rLol p 1            20.96  \n",
            "...                   ...  \n",
            "Sola t              18.79  \n",
            "rSola t 2           16.53  \n",
            "rSola t_GBSSI       19.07  \n",
            "rHom s LF            14.9  \n",
            "CCD-HSA             16.76  \n",
            "\n",
            "[245 rows x 521 columns]\n"
          ]
        }
      ]
    },
    {
      "cell_type": "markdown",
      "source": [
        "- Print the shapes to check the result"
      ],
      "metadata": {
        "id": "jlFeuh7lwT5G"
      }
    },
    {
      "cell_type": "code",
      "source": [
        "print(md_spain.shape)\n",
        "print(expr_spain.shape)"
      ],
      "metadata": {
        "id": "bU2obVLnPZiH",
        "colab": {
          "base_uri": "https://localhost:8080/"
        },
        "outputId": "80f716e6-b505-4f28-a206-ebf4a3f1f46c"
      },
      "execution_count": null,
      "outputs": [
        {
          "output_type": "stream",
          "name": "stdout",
          "text": [
            "(521, 5)\n",
            "(245, 521)\n"
          ]
        }
      ]
    },
    {
      "cell_type": "markdown",
      "source": [
        "# Exploration of the expression data\n",
        "To gain an initial understanding of the expression data, we need to filter out the noise. Currently, noise is defined as values below 30.\n",
        "\n",
        "- Convert the expr dataframe into a numpy array\n",
        "- Set values below 30 to 0.0\n",
        "\n",
        "Remove rows were all values are 0\n",
        "- use the 'sum' method (axsis = 1) to the the sums of each row\n",
        "- use this rowsum values to subset the array"
      ],
      "metadata": {
        "id": "N9F2SKGsKHB_"
      }
    },
    {
      "cell_type": "code",
      "source": [
        "# Convert to numpy\n",
        "expr_array = expr.to_numpy()\n",
        "print(expr_array)"
      ],
      "metadata": {
        "id": "oL1ccxGwKAvi",
        "colab": {
          "base_uri": "https://localhost:8080/"
        },
        "outputId": "aa131dba-986c-4112-e257-595ccf01e33c"
      },
      "execution_count": null,
      "outputs": [
        {
          "output_type": "stream",
          "name": "stdout",
          "text": [
            "[[0.0 0.0 0.0 ... 0.0 0.0 0.0]\n",
            " [0.0 0.0 0.0 ... 0.0 0.0 0.0]\n",
            " [0.0 0.0 0.0 ... 0.0 0.0 0.0]\n",
            " ...\n",
            " [0.0 0.0 0.0 ... 0.0 0.0 0.0]\n",
            " [0.0 0.0 0.0 ... 0.0 0.0 0.0]\n",
            " [0.0 0.0 0.0 ... 0.0 0.0 0.0]]\n"
          ]
        }
      ]
    },
    {
      "cell_type": "code",
      "source": [
        "# Set values below 30 to 0\n",
        "# Hint:\n",
        "# 'my_array < value' will return a boolean array which can be used\n",
        "expr_array[expr_array < 30] = 0.0\n",
        "print(expr_array)"
      ],
      "metadata": {
        "id": "pveqaIH8LJhH",
        "colab": {
          "base_uri": "https://localhost:8080/"
        },
        "outputId": "8d2388e9-96b4-4b0c-e4d0-0d32f67968eb"
      },
      "execution_count": null,
      "outputs": [
        {
          "output_type": "stream",
          "name": "stdout",
          "text": [
            "[[0.0 0.0 0.0 ... 0.0 0.0 0.0]\n",
            " [0.0 0.0 0.0 ... 0.0 0.0 0.0]\n",
            " [0.0 0.0 0.0 ... 0.0 0.0 0.0]\n",
            " ...\n",
            " [0.0 0.0 0.0 ... 0.0 0.0 0.0]\n",
            " [0.0 0.0 0.0 ... 0.0 0.0 0.0]\n",
            " [0.0 0.0 0.0 ... 0.0 0.0 0.0]]\n"
          ]
        }
      ]
    },
    {
      "cell_type": "code",
      "source": [
        "# Calculate row sums\n",
        "row_sums = np.sum(expr_array, axis=1)\n",
        "print(row_sums)\n",
        "# Filter rows where the sum is not 0\n",
        "expr_array_filtered = expr_array[row_sums > 0]\n",
        "print(expr_array_filtered)"
      ],
      "metadata": {
        "id": "5RgqJExRQLfh",
        "colab": {
          "base_uri": "https://localhost:8080/"
        },
        "outputId": "5f15ca01-3a3d-490a-fd45-6c90006f5e8a"
      },
      "execution_count": null,
      "outputs": [
        {
          "output_type": "stream",
          "name": "stdout",
          "text": [
            "[436.54 4875.210000000001 8081.570000000003 13641.989999999998 16682.5\n",
            " 11900.829999999994 20082.739999999998 16270.390000000005 18826.25\n",
            " 18165.979999999996 11356.640000000001 7469.499999999999 14584.77\n",
            " 15030.599999999999 3141.8900000000003 2343.34 5804.31 6942.1\n",
            " 12479.239999999994 10163.04 28295.809999999998 4844.950000000001 7909.82\n",
            " 2671.8200000000006 10149.869999999999 32188.41999999999\n",
            " 39534.460000000036 11471.839999999995 13605.069999999996\n",
            " 6265.239999999999 12215.9 13636.130000000001 9818.969999999998\n",
            " 4587.250000000001 900.41 246.86 22622.08999999999 195.29 8312.0\n",
            " 860.9600000000003 13433.420000000002 1211.19 3844.3300000000004\n",
            " 2223.4100000000003 5148.34 10418.439999999993 3307.85 8214.899999999998\n",
            " 22611.059999999998 7909.0 3669.3399999999997 1929.1800000000003 1918.94\n",
            " 8154.4400000000005 5169.01 77171.95000000001 6695.869999999999\n",
            " 34090.26000000002 8407.5 14584.93 8453.860000000002 631.95 514.36\n",
            " 1490.8200000000002 317.82 340.55 1822.1499999999999 114.5 314.5 691.12\n",
            " 1691.08 743.38 766.1 2058.7400000000002 7804.130000000001\n",
            " 4988.690000000001 2132.01 935.1 287.40999999999997 2887.5099999999998\n",
            " 2571.1599999999994 3308.18 38888.93000000006 141.15 281.21999999999997\n",
            " 1191.93 2533.9100000000003 1136.0 19498.09 6498.79 20127.020000000008\n",
            " 1802.2299999999998 163558.44000000003 450636.51000000065\n",
            " 33661.41000000001 123338.9399999999 1613.7199999999998 3319.9 17619.48\n",
            " 20337.030000000002 101698.33 16431.170000000002 978.2200000000001 16652.6\n",
            " 6503.209999999997 4210.8099999999995 25408.20000000001 15492.630000000003\n",
            " 6794.68 18454.83999999999 3567.290000000001 965.7200000000001\n",
            " 18870.499999999996 21183.660000000007 33689.50000000003 692.4899999999999\n",
            " 12404.94 428.96000000000004 2548.2799999999997 13425.199999999993\n",
            " 30425.15999999999 4837.68 8168.84 469.13 1830.0700000000002\n",
            " 2364.1000000000004 23838.810000000034 16850.389999999996\n",
            " 8418.039999999999 1721.4299999999998 11571.289999999997\n",
            " 182.98999999999998 107372.57999999997 149829.67999999993\n",
            " 51299.959999999985 30141.8 1059.23 135764.47000000006 8550.160000000003\n",
            " 110.02 8259.069999999998 536.2800000000001 44854.18999999998\n",
            " 48787.72000000002 31949.340000000004 7094.510000000002 3699.0500000000015\n",
            " 738.13 4763.530000000002 3706.3 1140.8599999999997 182.03 2312.97 442.29\n",
            " 861.9399999999999 1572.5699999999995 589.54 746.9699999999999 578.46\n",
            " 2375.03 12442.65 17677.380000000005 196.54 1813.46 3870.2799999999997\n",
            " 785.6300000000001 1884.5100000000004 5643.650000000001 0.0\n",
            " 3305.0000000000005 1459.58 402.09000000000003 3474.9700000000003\n",
            " 7746.1900000000005 3432.2999999999993 1862.1100000000001\n",
            " 391.53999999999996 4636.53 1508.3 268.0 855.01 6951.199999999998\n",
            " 307.14000000000004 1796.86 2048.86 3879.1200000000003 287.71\n",
            " 3351.8800000000006 3995.63 8145.070000000004 2481.0100000000007\n",
            " 3112.4499999999994 3388.4499999999994 935.02 4780.710000000001 1558.73\n",
            " 3508.8000000000006 55774.21999999998 37082.299999999996 0.0 182.12\n",
            " 696.4800000000001 5209.9 7985.39 254.98 482.53 622.08 180.51\n",
            " 14286.650000000007 30111.290000000005 1968.8300000000002\n",
            " 2898.859999999999 561.8299999999999 184.42000000000002 382.54999999999995\n",
            " 3844.69 1131.0600000000002 15302.080000000005 700.5600000000001\n",
            " 13432.860000000004 7253.499999999998 32.18 576.59 285.72 357.97\n",
            " 10236.660000000002 136.82 391.95 714.8 65.46 517.51 452.4600000000001\n",
            " 633.5799999999999 7741.580000000003 2036.0099999999998 4458.529999999999\n",
            " 0.0 347.06999999999994 1514.9699999999998 382.23 0.0 167.58\n",
            " 840.7399999999999 0.0 2936.84]\n",
            "[[0.0 0.0 0.0 ... 0.0 0.0 0.0]\n",
            " [0.0 0.0 0.0 ... 0.0 0.0 0.0]\n",
            " [0.0 0.0 0.0 ... 0.0 0.0 0.0]\n",
            " ...\n",
            " [0.0 0.0 0.0 ... 0.0 0.0 0.0]\n",
            " [0.0 0.0 0.0 ... 0.0 0.0 0.0]\n",
            " [0.0 0.0 0.0 ... 0.0 0.0 0.0]]\n"
          ]
        }
      ]
    },
    {
      "cell_type": "markdown",
      "source": [
        "### Visualize the Expression Data\n",
        "\n",
        "The follwing code is provided. Just make sure you replace the names of the variables with your variable names."
      ],
      "metadata": {
        "id": "x3L9CpZ2L-Ek"
      }
    },
    {
      "cell_type": "code",
      "source": [
        "import seaborn as sns\n",
        "!pip install fastcluster\n",
        "# import pandas as pd\n",
        "from sklearn.cluster import KMeans  # Example clustering algorithm\n",
        "from sklearn.preprocessing import StandardScaler"
      ],
      "metadata": {
        "id": "nOyW1XMvLu_Q",
        "colab": {
          "base_uri": "https://localhost:8080/"
        },
        "outputId": "233354e5-5c67-4384-d9e4-175c923c0eb7"
      },
      "execution_count": null,
      "outputs": [
        {
          "output_type": "stream",
          "name": "stdout",
          "text": [
            "Collecting fastcluster\n",
            "  Downloading fastcluster-1.2.6-cp310-cp310-manylinux_2_5_x86_64.manylinux1_x86_64.manylinux_2_17_x86_64.manylinux2014_x86_64.whl (194 kB)\n",
            "\u001b[?25l     \u001b[90m━━━━━━━━━━━━━━━━━━━━━━━━━━━━━━━━━━━━━━━━\u001b[0m \u001b[32m0.0/194.0 kB\u001b[0m \u001b[31m?\u001b[0m eta \u001b[36m-:--:--\u001b[0m\r\u001b[2K     \u001b[91m━━━━━━━━━━━━━━━━━━━━━━━━━━━━━━━━━━━\u001b[0m\u001b[91m╸\u001b[0m\u001b[90m━━━━\u001b[0m \u001b[32m174.1/194.0 kB\u001b[0m \u001b[31m5.0 MB/s\u001b[0m eta \u001b[36m0:00:01\u001b[0m\r\u001b[2K     \u001b[90m━━━━━━━━━━━━━━━━━━━━━━━━━━━━━━━━━━━━━━━━\u001b[0m \u001b[32m194.0/194.0 kB\u001b[0m \u001b[31m4.3 MB/s\u001b[0m eta \u001b[36m0:00:00\u001b[0m\n",
            "\u001b[?25hRequirement already satisfied: numpy>=1.9 in /usr/local/lib/python3.10/dist-packages (from fastcluster) (1.25.2)\n",
            "Installing collected packages: fastcluster\n",
            "Successfully installed fastcluster-1.2.6\n"
          ]
        }
      ]
    },
    {
      "cell_type": "code",
      "source": [
        "# Standardize data (optional)\n",
        "scaler = StandardScaler()\n",
        "scaled_exp = scaler.fit_transform(expr_array_filtered) # use the name of your array"
      ],
      "metadata": {
        "id": "U6smHFUIL7_M"
      },
      "execution_count": null,
      "outputs": []
    },
    {
      "cell_type": "code",
      "source": [
        "# Create the clustermap with hierarchical clustering\n",
        "sns.clustermap(scaled_exp,\n",
        "               method='ward',  # Linkage method (ward, single, complete, average, etc.)\n",
        "               metric='euclidean',  # Distance metric (euclidean, cityblock, etc.)\n",
        "               cmap=\"YlGnBu\",       # Colormap\n",
        "               figsize=(10, 8))    # Figure size"
      ],
      "metadata": {
        "id": "ZBG43Yg6MW0h",
        "colab": {
          "base_uri": "https://localhost:8080/",
          "height": 758
        },
        "outputId": "716667b3-65bc-4d4d-9a04-7d8831e2295f"
      },
      "execution_count": null,
      "outputs": [
        {
          "output_type": "execute_result",
          "data": {
            "text/plain": [
              "<seaborn.matrix.ClusterGrid at 0x782c996999f0>"
            ]
          },
          "metadata": {},
          "execution_count": 101
        },
        {
          "output_type": "display_data",
          "data": {
            "text/plain": [
              "<Figure size 1000x800 with 4 Axes>"
            ],
            "image/png": "[encoded data removed]"
          },
          "metadata": {}
        }
      ]
    },
    {
      "cell_type": "markdown",
      "source": [
        "### Right click the plot and save the heatmap as image\n",
        "\n",
        "# Done. Congratulations!"
      ],
      "metadata": {
        "id": "qYo7-frTTQsF"
      }
    }
  ]
}